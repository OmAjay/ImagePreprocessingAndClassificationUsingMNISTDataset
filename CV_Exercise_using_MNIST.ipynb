{
 "cells": [
  {
   "cell_type": "markdown",
   "metadata": {},
   "source": [
    "This sheet cotains the list of following\n",
    "\n",
    "1. original image\n",
    "2. sharpened image\n",
    "3. gray scale to black and white\n",
    "4. thinning of lines\n",
    "5. endpoint detection\n",
    "6. Segmentation \n",
    "7. gaussian blur\n",
    "8. Edge detection \n",
    "9. Sobel X Sobel Y\n",
    "10. PCA\n",
    "11. SVM"
   ]
  },
  {
   "cell_type": "code",
   "execution_count": 3,
   "metadata": {},
   "outputs": [],
   "source": [
    "# Check out the below link for image kernel examples \n",
    "\n",
    "#http://setosa.io/ev/image-kernels/"
   ]
  },
  {
   "cell_type": "code",
   "execution_count": 4,
   "metadata": {},
   "outputs": [
    {
     "name": "stderr",
     "output_type": "stream",
     "text": [
      "Using TensorFlow backend.\n"
     ]
    }
   ],
   "source": [
    "import cv2\n",
    "import numpy as np\n",
    "import keras\n",
    "from keras.datasets import mnist\n",
    "import matplotlib.pyplot as plt"
   ]
  },
  {
   "cell_type": "code",
   "execution_count": 5,
   "metadata": {},
   "outputs": [],
   "source": [
    "# input image dimensions\n",
    "img_rows, img_cols = 28, 28\n",
    "\n",
    "# x -> image \n",
    "# y -> digit\n",
    "\n",
    "(x_train, y_train), (x_test, y_test) = mnist.load_data()"
   ]
  },
  {
   "cell_type": "code",
   "execution_count": 6,
   "metadata": {},
   "outputs": [
    {
     "data": {
      "image/png": "[encoded data removed]",
      "text/plain": [
       "<Figure size 432x288 with 1 Axes>"
      ]
     },
     "metadata": {
      "needs_background": "light"
     },
     "output_type": "display_data"
    },
    {
     "name": "stdout",
     "output_type": "stream",
     "text": [
      "2\n"
     ]
    }
   ],
   "source": [
    "plt.imshow(x_test[1])\n",
    "plt.show()\n",
    "print(y_test[1])"
   ]
  },
  {
   "cell_type": "markdown",
   "metadata": {},
   "source": [
    "2. Sharpened image\n",
    "\n",
    "Kernels used for diff purpose - https://en.wikipedia.org/wiki/Kernel_(image_processing)"
   ]
  },
  {
   "cell_type": "code",
   "execution_count": 7,
   "metadata": {},
   "outputs": [],
   "source": [
    "#Mask used to sharpen image \n",
    "kernel = np.array([[0,-1,0],\n",
    "                   [-1,5,-1],\n",
    "                   [0,-1,0]])\n",
    "im_sharp = cv2.filter2D(x_test[1], -1, kernel)"
   ]
  },
  {
   "cell_type": "code",
   "execution_count": 8,
   "metadata": {},
   "outputs": [
    {
     "data": {
      "text/plain": [
       "Text(0.5, 1.0, 'sharpened Image')"
      ]
     },
     "execution_count": 8,
     "metadata": {},
     "output_type": "execute_result"
    },
    {
     "data": {
      "image/png": "[encoded data removed]",
      "text/plain": [
       "<Figure size 432x288 with 2 Axes>"
      ]
     },
     "metadata": {
      "needs_background": "light"
     },
     "output_type": "display_data"
    }
   ],
   "source": [
    "#display original image \n",
    "plt.subplot(121),plt.imshow(x_test[1])\n",
    "plt.title('Original Image')\n",
    "\n",
    "\n",
    "#Code to display sharpened image \n",
    "plt.subplot(122),plt.imshow(im_sharp)\n",
    "plt.title('sharpened Image')"
   ]
  },
  {
   "cell_type": "markdown",
   "metadata": {},
   "source": [
    "#3.  Gray scale to black and white"
   ]
  },
  {
   "cell_type": "code",
   "execution_count": 13,
   "metadata": {},
   "outputs": [
    {
     "data": {
      "text/plain": [
       "Text(0.5, 1.0, 'Binary Inverted')"
      ]
     },
     "execution_count": 13,
     "metadata": {},
     "output_type": "execute_result"
    },
    {
     "data": {
      "image/png": "[encoded data removed]",
      "text/plain": [
       "<Figure size 432x288 with 3 Axes>"
      ]
     },
     "metadata": {
      "needs_background": "light"
     },
     "output_type": "display_data"
    }
   ],
   "source": [
    "(thresh, im_black_inv) = cv2.threshold(im_sharp, 0,1, cv2.THRESH_BINARY_INV | cv2.THRESH_OTSU)\n",
    "(thresh, im_black) = cv2.threshold(im_sharp, 0,1, cv2.THRESH_BINARY | cv2.THRESH_OTSU)\n",
    "\n",
    "#display original image \n",
    "plt.subplot(131),plt.imshow(x_test[1])\n",
    "plt.title('Original Image')\n",
    "\n",
    "\n",
    "#Code to display binary image \n",
    "plt.subplot(132),plt.imshow(im_black, cmap=plt.cm.gray)\n",
    "plt.title('Binary')\n",
    "\n",
    "#Code to display binary image (inverted)\n",
    "plt.subplot(133),plt.imshow(im_black_inv ,cmap=plt.cm.gray)\n",
    "plt.title('Binary Inverted')"
   ]
  },
  {
   "cell_type": "markdown",
   "metadata": {},
   "source": [
    "4. thinning of lines"
   ]
  },
  {
   "cell_type": "markdown",
   "metadata": {},
   "source": [
    "##Example for skeletonize "
   ]
  },
  {
   "cell_type": "code",
   "execution_count": 14,
   "metadata": {},
   "outputs": [
    {
     "data": {
      "image/png": "[encoded data removed]",
      "text/plain": [
       "<Figure size 576x288 with 2 Axes>"
      ]
     },
     "metadata": {
      "needs_background": "light"
     },
     "output_type": "display_data"
    }
   ],
   "source": [
    "from skimage.morphology import skeletonize\n",
    "from skimage import data\n",
    "import matplotlib.pyplot as plt\n",
    "from skimage.util import invert\n",
    "\n",
    "# Invert the horse image\n",
    "image = invert(data.horse())\n",
    "\n",
    "# perform skeletonization\n",
    "skeleton = skeletonize(image)\n",
    "\n",
    "# display results\n",
    "fig, axes = plt.subplots(nrows=1, ncols=2, figsize=(8, 4),\n",
    "                         sharex=True, sharey=True)\n",
    "\n",
    "ax = axes.ravel()\n",
    "\n",
    "ax[0].imshow(image, cmap=plt.cm.gray)\n",
    "ax[0].axis('off')\n",
    "ax[0].set_title('original', fontsize=20)\n",
    "\n",
    "ax[1].imshow(skeleton, cmap=plt.cm.gray)\n",
    "ax[1].axis('off')\n",
    "ax[1].set_title('skeleton', fontsize=20)\n",
    "\n",
    "fig.tight_layout()\n",
    "plt.show()"
   ]
  },
  {
   "cell_type": "code",
   "execution_count": 15,
   "metadata": {},
   "outputs": [
    {
     "data": {
      "image/png": "[encoded data removed]",
      "text/plain": [
       "<Figure size 576x288 with 2 Axes>"
      ]
     },
     "metadata": {
      "needs_background": "light"
     },
     "output_type": "display_data"
    }
   ],
   "source": [
    "from skimage.morphology import skeletonize\n",
    "from skimage.util import invert\n",
    "\n",
    "skeleton = skeletonize(im_black)\n",
    "\n",
    "fig, axes = plt.subplots(nrows=1, ncols=2, figsize=(8, 4), sharex=True, sharey=True)\n",
    "\n",
    "ax = axes.ravel()\n",
    "\n",
    "ax[0].imshow(im_black, cmap=plt.cm.gray)\n",
    "ax[0].axis('off')\n",
    "ax[0].set_title('original', fontsize=20)\n",
    "\n",
    "ax[1].imshow(skeleton, cmap=plt.cm.gray)\n",
    "ax[1].axis('off')\n",
    "ax[1].set_title('skeleton', fontsize=20)\n",
    "\n",
    "fig.tight_layout()\n",
    "plt.show()"
   ]
  },
  {
   "cell_type": "markdown",
   "metadata": {},
   "source": [
    "#5. endpoint detection"
   ]
  },
  {
   "cell_type": "code",
   "execution_count": 16,
   "metadata": {},
   "outputs": [],
   "source": [
    "def skeleton_endpoints(skel):\n",
    "    # make out input nice, possibly necessary\n",
    "    skel = skel.copy()\n",
    "    skel[skel!=0] = 1\n",
    "    skel = np.uint8(skel)\n",
    "\n",
    "    # apply the convolution\n",
    "    kernel = np.uint8([[1,  1, 1],\n",
    "                       [1, 10, 1],\n",
    "                       [1,  1, 1]])\n",
    "    src_depth = -1\n",
    "    filtered = cv2.filter2D(skel,src_depth,kernel)\n",
    "\n",
    "    # now look through to find the value of 1\n",
    "    out = np.zeros_like(skel)\n",
    "    out[np.where(filtered==1)] = 1\n",
    "    return out\n"
   ]
  },
  {
   "cell_type": "code",
   "execution_count": 17,
   "metadata": {},
   "outputs": [
    {
     "data": {
      "text/plain": [
       "<matplotlib.image.AxesImage at 0x19034b137c8>"
      ]
     },
     "execution_count": 17,
     "metadata": {},
     "output_type": "execute_result"
    },
    {
     "data": {
      "image/png": "[encoded data removed]",
      "text/plain": [
       "<Figure size 432x288 with 1 Axes>"
      ]
     },
     "metadata": {
      "needs_background": "light"
     },
     "output_type": "display_data"
    }
   ],
   "source": [
    "plt.imshow(skeleton_endpoints(im_black))"
   ]
  },
  {
   "cell_type": "markdown",
   "metadata": {},
   "source": [
    "6. Segmentation"
   ]
  },
  {
   "cell_type": "code",
   "execution_count": 18,
   "metadata": {},
   "outputs": [
    {
     "data": {
      "text/plain": [
       "Text(0.5, 1.0, 'Segmented Image')"
      ]
     },
     "execution_count": 18,
     "metadata": {},
     "output_type": "execute_result"
    },
    {
     "data": {
      "image/png": "[encoded data removed]",
      "text/plain": [
       "<Figure size 432x288 with 2 Axes>"
      ]
     },
     "metadata": {
      "needs_background": "light"
     },
     "output_type": "display_data"
    }
   ],
   "source": [
    "img = x_test[1]\n",
    "mser = cv2.MSER_create()\n",
    "\n",
    "#Resize the image so that MSER can work better\n",
    "img = cv2.resize(img, (img.shape[1]*2, img.shape[0]*2))\n",
    "\n",
    "#gray = cv2.cvtColor(img, cv2.COLOR_BGR2GRAY)\n",
    "vis = img.copy()\n",
    "\n",
    "regions = mser.detectRegions(img)\n",
    "hulls = [cv2.convexHull(p.reshape(-1, 1, 2)) for p in regions[0]]\n",
    "cv2.polylines(vis, hulls, 1, (0,255,0)) \n",
    "\n",
    "plt.subplot(121),plt.imshow(x_test[1])\n",
    "plt.title('Original Image')\n",
    "\n",
    "\n",
    "#Code to display sharpened image \n",
    "plt.subplot(122),plt.imshow(vis)\n",
    "plt.title('Segmented Image')\n",
    "\n"
   ]
  },
  {
   "cell_type": "markdown",
   "metadata": {},
   "source": [
    "##7. gaussian blur"
   ]
  },
  {
   "cell_type": "code",
   "execution_count": 19,
   "metadata": {},
   "outputs": [
    {
     "data": {
      "text/plain": [
       "(Text(0.5, 1.0, 'Blurred Image'),\n",
       " ([], <a list of 0 Text xticklabel objects>),\n",
       " ([], <a list of 0 Text yticklabel objects>))"
      ]
     },
     "execution_count": 19,
     "metadata": {},
     "output_type": "execute_result"
    },
    {
     "data": {
      "image/png": "[encoded data removed]",
      "text/plain": [
       "<Figure size 432x288 with 2 Axes>"
      ]
     },
     "metadata": {},
     "output_type": "display_data"
    }
   ],
   "source": [
    "gaussian = cv2.GaussianBlur(x_test[1],(5,5),0)\n",
    "\n",
    "plt.subplot(121),plt.imshow(x_test[1],cmap = 'gray')\n",
    "plt.title('Original Image'), plt.xticks([]), plt.yticks([])\n",
    "\n",
    "plt.subplot(122),plt.imshow(gaussian,cmap = 'gray')\n",
    "plt.title('Blurred Image'), plt.xticks([]), plt.yticks([])"
   ]
  },
  {
   "cell_type": "markdown",
   "metadata": {},
   "source": [
    "#8 Cannys Edge detection on blurred image "
   ]
  },
  {
   "cell_type": "code",
   "execution_count": 20,
   "metadata": {},
   "outputs": [
    {
     "name": "stdout",
     "output_type": "stream",
     "text": [
      "Canny edge detection\n"
     ]
    },
    {
     "data": {
      "image/png": "[encoded data removed]",
      "text/plain": [
       "<Figure size 576x576 with 2 Axes>"
      ]
     },
     "metadata": {},
     "output_type": "display_data"
    }
   ],
   "source": [
    "\n",
    "plt.figure(figsize=(8,8))\n",
    "print(\"Canny edge detection\")\n",
    "\n",
    "edges_result = cv2.Canny(gaussian,100,200)\n",
    "plt.subplot(121),plt.imshow(gaussian,cmap = 'gray')\n",
    "plt.title('Original Image'), plt.xticks([]), plt.yticks([])\n",
    "plt.subplot(122),plt.imshow(edges_result,cmap = 'gray')\n",
    "plt.title('Edge Image'), plt.xticks([]), plt.yticks([])\n",
    "\n",
    "plt.show()"
   ]
  },
  {
   "cell_type": "markdown",
   "metadata": {},
   "source": [
    "9. Sobel X Sobel Y"
   ]
  },
  {
   "cell_type": "code",
   "execution_count": 21,
   "metadata": {},
   "outputs": [
    {
     "data": {
      "text/plain": [
       "(Text(0.5, 1.0, 'Sobel Y on Blurred image'),\n",
       " ([], <a list of 0 Text xticklabel objects>),\n",
       " ([], <a list of 0 Text yticklabel objects>))"
      ]
     },
     "execution_count": 21,
     "metadata": {},
     "output_type": "execute_result"
    },
    {
     "data": {
      "image/png": "[encoded data removed]",
      "text/plain": [
       "<Figure size 576x576 with 6 Axes>"
      ]
     },
     "metadata": {},
     "output_type": "display_data"
    }
   ],
   "source": [
    "plt.figure(figsize=(8,8))\n",
    "\n",
    "sobelx = cv2.Sobel(im_black,cv2.CV_64F,1,0,ksize=7)# x\n",
    "sobely = cv2.Sobel(im_black,cv2.CV_64F,0,1,ksize=5)# y\n",
    "\n",
    "#Displaying a image without any filter \n",
    "plt.subplot(2,3,1),plt.imshow(im_black,cmap = 'gray')\n",
    "plt.title('Grey image'), plt.xticks([]), plt.yticks([])\n",
    "\n",
    "#Applying sobel X on normal image \n",
    "plt.subplot(2,3,2),plt.imshow(sobelx,cmap = 'gray')\n",
    "plt.title('Sobel X on raw image'), plt.xticks([]), plt.yticks([])\n",
    "\n",
    "#Applying sobel Y on normal image \n",
    "plt.subplot(2,3,3),plt.imshow(sobely,cmap = 'gray')\n",
    "plt.title('Sobel Y on raw image'), plt.xticks([]), plt.yticks([])\n",
    "\n",
    "#Displaying a simple gaussian blurred image \n",
    "plt.subplot(2,3,4),plt.imshow(gaussian,cmap = 'gray')\n",
    "plt.title('Blurred image'), plt.xticks([]), plt.yticks([])\n",
    "\n",
    "#Applying Sobel X edge detection on blurred image   \n",
    "sobelx_gaussian = cv2.Sobel(gaussian,cv2.CV_64F,1,0,ksize=7)# x\n",
    "plt.subplot(2,3,5),plt.imshow(sobelx_gaussian,cmap = 'gray')\n",
    "plt.title('Sobel X on Blurred image'), plt.xticks([]), plt.yticks([])\n",
    "\n",
    "#Applying Sobel Y edge detection on blurred image \n",
    "sobely_gaussian = cv2.Sobel(gaussian,cv2.CV_64F,0,1,ksize=5)# x\n",
    "plt.subplot(2,3,6),plt.imshow(sobely_gaussian,cmap = 'gray')\n",
    "plt.title('Sobel Y on Blurred image'), plt.xticks([]), plt.yticks([])\n"
   ]
  },
  {
   "cell_type": "code",
   "execution_count": 22,
   "metadata": {},
   "outputs": [
    {
     "data": {
      "image/png": "[encoded data removed]",
      "text/plain": [
       "<Figure size 1440x288 with 5 Axes>"
      ]
     },
     "metadata": {
      "needs_background": "light"
     },
     "output_type": "display_data"
    },
    {
     "data": {
      "image/png": "[encoded data removed]",
      "text/plain": [
       "<Figure size 576x288 with 2 Axes>"
      ]
     },
     "metadata": {
      "needs_background": "light"
     },
     "output_type": "display_data"
    }
   ],
   "source": [
    "import pandas as pd\n",
    "import numpy as np \n",
    "# Suppress scientific notation\n",
    "np.set_printoptions(suppress=True)\n",
    "\n",
    "import matplotlib.pyplot as plt\n",
    "from sklearn.decomposition import PCA\n",
    "from sklearn.preprocessing import StandardScaler\n",
    "\n",
    "##Corrected code below changed the method to fetch_openml the original code is deprecated.\n",
    "# Used for Downloading MNIST\n",
    "from sklearn.datasets import fetch_openml\n",
    "\n",
    "# Used for Splitting Training and Test Sets\n",
    "from sklearn.model_selection import train_test_split\n",
    "\n",
    "%matplotlib inline\n",
    "\n",
    "mnist = fetch_openml('mnist_784', version=1)\n",
    "\n",
    "mnist.data.shape\n",
    "\n",
    "train_img, test_img, train_lbl, test_lbl = train_test_split(\n",
    "    mnist.data, mnist.target, test_size=1/7.0, random_state=0)\n",
    "\n",
    "#print(train_img.shape)\n",
    "\n",
    "#print(train_lbl.shape)\n",
    "\n",
    "plt.figure(figsize=(20,4))\n",
    "for index, (image, label) in enumerate(zip(train_img[0:5], train_lbl[0:5])):\n",
    "    plt.subplot(1, 5, index + 1)\n",
    "    plt.imshow(np.reshape(image, (28,28)), cmap=plt.cm.gray)\n",
    "    #Corrected below code the label value in dataset is of string type, probably it was integer earler.\n",
    "    plt.title('Training: %i\\n' % int(label), fontsize = 20)\n",
    "\n",
    "pca = PCA(.95)\n",
    "\n",
    "pca.fit(train_img)\n",
    "\n",
    "#pca.n_components_\n",
    "\n",
    "components = pca.transform(train_img)\n",
    "approximation = pca.inverse_transform(components)\n",
    "\n",
    "plt.figure(figsize=(8,4));\n",
    "\n",
    "# Original Image\n",
    "plt.subplot(1, 2, 1);\n",
    "plt.imshow(train_img[0].reshape(28,28),\n",
    "              cmap = plt.cm.gray, interpolation='nearest',\n",
    "              clim=(0, 255));\n",
    "plt.xlabel('784 components', fontsize = 14)\n",
    "plt.title('Original Image', fontsize = 20);\n",
    "\n",
    "# 154 principal components\n",
    "plt.subplot(1, 2, 2);\n",
    "plt.imshow(approximation[0].reshape(28, 28),\n",
    "              cmap = plt.cm.gray, interpolation='nearest',\n",
    "              clim=(0, 255));\n",
    "plt.xlabel('154 components', fontsize = 14)\n",
    "plt.title('95% of Explained Variance', fontsize = 20);\n"
   ]
  },
  {
   "cell_type": "code",
   "execution_count": 23,
   "metadata": {},
   "outputs": [
    {
     "name": "stdout",
     "output_type": "stream",
     "text": [
      "Classification report for classifier SVC(C=1.0, cache_size=200, class_weight=None, coef0=0.0,\n",
      "    decision_function_shape='ovr', degree=3, gamma=0.001, kernel='rbf',\n",
      "    max_iter=-1, probability=False, random_state=None, shrinking=True,\n",
      "    tol=0.001, verbose=False):\n",
      "              precision    recall  f1-score   support\n",
      "\n",
      "           0       1.00      0.99      0.99        88\n",
      "           1       0.99      0.97      0.98        91\n",
      "           2       0.99      0.99      0.99        86\n",
      "           3       0.98      0.87      0.92        91\n",
      "           4       0.99      0.96      0.97        92\n",
      "           5       0.95      0.97      0.96        91\n",
      "           6       0.99      0.99      0.99        91\n",
      "           7       0.96      0.99      0.97        89\n",
      "           8       0.94      1.00      0.97        88\n",
      "           9       0.93      0.98      0.95        92\n",
      "\n",
      "    accuracy                           0.97       899\n",
      "   macro avg       0.97      0.97      0.97       899\n",
      "weighted avg       0.97      0.97      0.97       899\n",
      "\n",
      "\n"
     ]
    },
    {
     "data": {
      "image/png": "[encoded data removed]",
      "text/plain": [
       "<Figure size 432x288 with 8 Axes>"
      ]
     },
     "metadata": {
      "needs_background": "light"
     },
     "output_type": "display_data"
    }
   ],
   "source": [
    "import matplotlib.pyplot as plt\n",
    "\n",
    "# Import datasets, classifiers and performance metrics\n",
    "from sklearn import datasets, svm, metrics\n",
    "from sklearn.model_selection import train_test_split\n",
    "\n",
    "# The digits dataset\n",
    "digits = datasets.load_digits()\n",
    "\n",
    "# The data that we are interested in is made of 8x8 images of digits, let's\n",
    "# have a look at the first 4 images, stored in the `images` attribute of the\n",
    "# dataset.  If we were working from image files, we could load them using\n",
    "# matplotlib.pyplot.imread.  Note that each image must have the same size. For these\n",
    "# images, we know which digit they represent: it is given in the 'target' of\n",
    "# the dataset.\n",
    "_, axes = plt.subplots(2, 4)\n",
    "images_and_labels = list(zip(digits.images, digits.target))\n",
    "for ax, (image, label) in zip(axes[0, :], images_and_labels[:4]):\n",
    "    ax.set_axis_off()\n",
    "    ax.imshow(image, cmap=plt.cm.gray_r, interpolation='nearest')\n",
    "    ax.set_title('Training: %i' % label)\n",
    "\n",
    "# To apply a classifier on this data, we need to flatten the image, to\n",
    "# turn the data in a (samples, feature) matrix:\n",
    "n_samples = len(digits.images)\n",
    "data = digits.images.reshape((n_samples, -1))\n",
    "\n",
    "# Create a classifier: a support vector classifier\n",
    "classifier = svm.SVC(gamma=0.001)\n",
    "\n",
    "# Split data into train and test subsets\n",
    "X_train, X_test, y_train, y_test = train_test_split(\n",
    "    data, digits.target, test_size=0.5, shuffle=False)\n",
    "\n",
    "# We learn the digits on the first half of the digits\n",
    "classifier.fit(X_train, y_train)\n",
    "\n",
    "# Now predict the value of the digit on the second half:\n",
    "predicted = classifier.predict(X_test)\n",
    "\n",
    "images_and_predictions = list(zip(digits.images[n_samples // 2:], predicted))\n",
    "for ax, (image, prediction) in zip(axes[1, :], images_and_predictions[:4]):\n",
    "    ax.set_axis_off()\n",
    "    ax.imshow(image, cmap=plt.cm.gray_r, interpolation='nearest')\n",
    "    ax.set_title('Prediction: %i' % prediction)\n",
    "\n",
    "print(\"Classification report for classifier %s:\\n%s\\n\"\n",
    "      % (classifier, metrics.classification_report(y_test, predicted)))\n",
    "\n",
    "\n",
    "plt.show()"
   ]
  }
 ],
 "metadata": {
  "kernelspec": {
   "display_name": "Python 3",
   "language": "python",
   "name": "python3"
  },
  "language_info": {
   "codemirror_mode": {
    "name": "ipython",
    "version": 3
   },
   "file_extension": ".py",
   "mimetype": "text/x-python",
   "name": "python",
   "nbconvert_exporter": "python",
   "pygments_lexer": "ipython3",
   "version": "3.7.4"
  }
 },
 "nbformat": 4,
 "nbformat_minor": 2
}
